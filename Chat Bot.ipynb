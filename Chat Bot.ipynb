{
 "cells": [
  {
   "cell_type": "code",
   "execution_count": 1,
   "id": "a3f15cc5",
   "metadata": {},
   "outputs": [
    {
     "name": "stdout",
     "output_type": "stream",
     "text": [
      "what is your name?Charlie\n"
     ]
    }
   ],
   "source": [
    "name=input('what is your name?')"
   ]
  },
  {
   "cell_type": "code",
   "execution_count": 2,
   "id": "b4418ea1",
   "metadata": {},
   "outputs": [
    {
     "name": "stdout",
     "output_type": "stream",
     "text": [
      "your name is Charlie\n"
     ]
    }
   ],
   "source": [
    "print('your name is', name)"
   ]
  },
  {
   "cell_type": "code",
   "execution_count": 4,
   "id": "9f1aa169",
   "metadata": {},
   "outputs": [
    {
     "name": "stdout",
     "output_type": "stream",
     "text": [
      "How old are you13\n"
     ]
    }
   ],
   "source": [
    "age=input('How old are you')"
   ]
  },
  {
   "cell_type": "code",
   "execution_count": 5,
   "id": "e2df013e",
   "metadata": {},
   "outputs": [
    {
     "name": "stdout",
     "output_type": "stream",
     "text": [
      "You are 13 years old\n"
     ]
    }
   ],
   "source": [
    "print('You are',age,'years old')"
   ]
  },
  {
   "cell_type": "code",
   "execution_count": 6,
   "id": "91935c57",
   "metadata": {},
   "outputs": [
    {
     "name": "stdout",
     "output_type": "stream",
     "text": [
      "what do you like to do?play video games\n"
     ]
    }
   ],
   "source": [
    "hobby=input('what do you like to do?')"
   ]
  },
  {
   "cell_type": "code",
   "execution_count": 7,
   "id": "6f49ce3f",
   "metadata": {},
   "outputs": [
    {
     "name": "stdout",
     "output_type": "stream",
     "text": [
      "you like to play video games\n"
     ]
    }
   ],
   "source": [
    "print('you like to', hobby)"
   ]
  },
  {
   "cell_type": "code",
   "execution_count": null,
   "id": "427bff6c",
   "metadata": {},
   "outputs": [],
   "source": []
  },
  {
   "cell_type": "code",
   "execution_count": null,
   "id": "03427cc6",
   "metadata": {},
   "outputs": [],
   "source": []
  },
  {
   "cell_type": "code",
   "execution_count": null,
   "id": "3cb6cc3b",
   "metadata": {},
   "outputs": [],
   "source": []
  },
  {
   "cell_type": "code",
   "execution_count": null,
   "id": "0857c802",
   "metadata": {},
   "outputs": [],
   "source": []
  }
 ],
 "metadata": {
  "kernelspec": {
   "display_name": "Python 3 (ipykernel)",
   "language": "python",
   "name": "python3"
  },
  "language_info": {
   "codemirror_mode": {
    "name": "ipython",
    "version": 3
   },
   "file_extension": ".py",
   "mimetype": "text/x-python",
   "name": "python",
   "nbconvert_exporter": "python",
   "pygments_lexer": "ipython3",
   "version": "3.9.12"
  }
 },
 "nbformat": 4,
 "nbformat_minor": 5
}
